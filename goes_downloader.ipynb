{
 "cells": [
  {
   "cell_type": "code",
   "execution_count": 20,
   "id": "1b06ceaf-c2d2-4a94-89ad-5d6dcb487656",
   "metadata": {},
   "outputs": [],
   "source": [
    "from goes2go import GOES, data\n"
   ]
  },
  {
   "cell_type": "code",
   "execution_count": 24,
   "id": "40a15003-f13f-4fc0-beb4-7bfcaa1f8ba8",
   "metadata": {},
   "outputs": [],
   "source": [
    "G = GOES(satellite=16, product=\"ABI-L1b-RadC\", domain='C')\n"
   ]
  },
  {
   "cell_type": "code",
   "execution_count": 33,
   "id": "456f0c30-ba49-43bc-9997-aa7ab3afb5d2",
   "metadata": {},
   "outputs": [
    {
     "name": "stdout",
     "output_type": "stream",
     "text": [
      "📦 Finished downloading [1] files to [data/GOES/noaa-goes16/ABI-L1b-RadC].\n"
     ]
    }
   ],
   "source": [
    "df = G.timerange(start='2023-09-25 16:00', end='2023-09-25 16:05', return_as='filelist', overwrite=False, save_dir='data/GOES')\n",
    "    # start=None,\n",
    "    # end=None,\n",
    "    # recent=None,\n",
    "    # *,\n",
    "    # satellite=config[\"timerange\"].get(\"satellite\"),\n",
    "    # product=config[\"timerange\"].get(\"product\"),\n",
    "    # domain=config[\"timerange\"].get(\"domain\"),\n",
    "    # return_as=config[\"timerange\"].get(\"return_as\"),\n",
    "    # download=config[\"timerange\"].get(\"download\"),\n",
    "    # overwrite=config[\"timerange\"].get(\"overwrite\"),\n",
    "    # save_dir=config[\"timerange\"].get(\"save_dir\"),\n",
    "    # max_cpus=config[\"timerange\"].get(\"max_cpus\"),\n",
    "    # bands=None,\n",
    "    # s3_refresh=config[\"timerange\"].get(\"s3_refresh\"),\n",
    "    # verbose=config[\"timerange\"].get(\"verbose\", True),\n",
    "# df = G.latest(save_dir='data/GOES', overwrite=False, return_as='filelist')\n",
    "# df.attrs[\"filePath\"]\n",
    " # max_cpus : int\n",
    "# \"filelist\":\n",
    "#         df.attrs[\"filePath\"] = save_dir\n",
    "#         return df\n",
    "# return_as : {'xarray', 'filelist'}\n",
    "#         Return the data as an xarray.Dataset or as a list of files\n"
   ]
  },
  {
   "cell_type": "code",
   "execution_count": 30,
   "id": "b4a93a3e-13fc-4818-abbd-c28b0202fc4e",
   "metadata": {},
   "outputs": [
    {
     "data": {
      "text/plain": [
       "{'satellite': 'noaa-goes16',\n",
       " 'product': 'ABI-L1b-RadC',\n",
       " 'start': Timestamp('2023-09-25 00:00:00'),\n",
       " 'end': Timestamp('2023-09-25 01:00:00'),\n",
       " 'bands': 1,\n",
       " 'refresh': False,\n",
       " 'filePath': 'data/GOES'}"
      ]
     },
     "execution_count": 30,
     "metadata": {},
     "output_type": "execute_result"
    }
   ],
   "source": [
    "df.attrs"
   ]
  },
  {
   "cell_type": "code",
   "execution_count": null,
   "id": "c12c17ca-0653-48e3-b1bb-1e96a8c16140",
   "metadata": {},
   "outputs": [],
   "source": []
  }
 ],
 "metadata": {
  "kernelspec": {
   "display_name": "Python 3 (ipykernel)",
   "language": "python",
   "name": "python3"
  },
  "language_info": {
   "codemirror_mode": {
    "name": "ipython",
    "version": 3
   },
   "file_extension": ".py",
   "mimetype": "text/x-python",
   "name": "python",
   "nbconvert_exporter": "python",
   "pygments_lexer": "ipython3",
   "version": "3.11.3"
  }
 },
 "nbformat": 4,
 "nbformat_minor": 5
}
